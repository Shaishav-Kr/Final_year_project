{
  "cells": [
    {
      "cell_type": "markdown",
      "metadata": {},
      "source": [
        "# IMPORT LIBRARIES"
      ]
    },
    {
      "cell_type": "code",
      "execution_count": 161,
      "metadata": {},
      "outputs": [],
      "source": [
        "import yfinance as yf\n",
        "import pandas as pd\n",
        "import datetime\n",
        "import numpy as np\n",
        "import matplotlib.pyplot as plt\n",
        "from sklearn.linear_model import LinearRegression\n",
        "from sklearn.model_selection import train_test_split\n",
        "from sklearn.ensemble import RandomForestRegressor\n",
        "from sklearn.neighbors import KNeighborsRegressor\n",
        "from sklearn.metrics import mean_squared_error, mean_absolute_error, r2_score\n",
        "from sklearn.preprocessing import StandardScaler, MinMaxScaler\n",
        "from tensorflow.keras.models import Sequential\n",
        "from tensorflow.keras.layers import Dense, LSTM\n",
        "from nltk.sentiment.vader import SentimentIntensityAnalyzer\n",
        "from tabulate import tabulate\n",
        "import nltk\n",
        "from math import sqrt"
      ]
    },
    {
      "cell_type": "markdown",
      "metadata": {
        "id": "ja_hSuBWJ6iH",
        "slideshow": {
          "slide_type": "notes"
        }
      },
      "source": [
        "# Downloading, merging and preprocessing non financial dataset."
      ]
    },
    {
      "cell_type": "code",
      "execution_count": 162,
      "metadata": {
        "colab": {
          "base_uri": "https://localhost:8080/"
        },
        "id": "9KJbNWp4o3dU",
        "outputId": "5de70d0e-154a-4b43-8a04-c24f7cbb5a0a"
      },
      "outputs": [
        {
          "name": "stderr",
          "output_type": "stream",
          "text": [
            "[*********************100%%**********************]  1 of 1 completed"
          ]
        },
        {
          "name": "stderr",
          "output_type": "stream",
          "text": [
            "\n",
            "[*********************100%%**********************]  1 of 1 completed\n",
            "[*********************100%%**********************]  1 of 1 completed\n",
            "[*********************100%%**********************]  1 of 1 completed"
          ]
        },
        {
          "name": "stdout",
          "output_type": "stream",
          "text": [
            "Data downloaded and merged successfully.\n"
          ]
        },
        {
          "name": "stderr",
          "output_type": "stream",
          "text": [
            "\n"
          ]
        }
      ],
      "source": [
        "def download_data(ticker, start_date, end_date):\n",
        "    try:\n",
        "        df = yf.download(ticker, start=start_date, end=end_date)\n",
        "        df = df['Close'].rename(ticker)\n",
        "        return df\n",
        "    except Exception as e:\n",
        "        print(f\"Error downloading data for {ticker}: {e}\")\n",
        "        return pd.Series(name=ticker)\n",
        "\n",
        "end_date = datetime.datetime.now().strftime('%Y-%m-%d')\n",
        "start_date = (datetime.datetime.now() - datetime.timedelta(days=20*365)).strftime('%Y-%m-%d')\n",
        "\n",
        "tickers = ['FRSH', 'NEM', 'XOM', 'INR=X']\n",
        "\n",
        "dataframes = [download_data(ticker, start_date, end_date) for ticker in tickers]\n",
        "\n",
        "merged_data = pd.concat(dataframes, axis=1).dropna()\n",
        "merged_data.columns = ['FRESHWORKS', 'GOLD', 'PETROL', 'CURRENCY']\n",
        "\n",
        "merged_data.to_csv('merged_data.csv')\n",
        "\n",
        "if merged_data.isna().any().any():\n",
        "    print(\"Warning: NaN values present in the merged data.\")\n",
        "else:\n",
        "    print(\"Data downloaded and merged successfully.\")"
      ]
    },
    {
      "cell_type": "code",
      "execution_count": 163,
      "metadata": {
        "id": "feMmW7Pszv9I"
      },
      "outputs": [],
      "source": [
        "data = pd.read_csv('merged_data.csv')\n",
        "df = data"
      ]
    },
    {
      "cell_type": "code",
      "execution_count": 164,
      "metadata": {
        "colab": {
          "base_uri": "https://localhost:8080/",
          "height": 424
        },
        "id": "N5im4ROf2XHV",
        "outputId": "b3d9c447-0f0f-4afd-e9c9-2f34ec895c99"
      },
      "outputs": [
        {
          "data": {
            "text/html": [
              "<div>\n",
              "<style scoped>\n",
              "    .dataframe tbody tr th:only-of-type {\n",
              "        vertical-align: middle;\n",
              "    }\n",
              "\n",
              "    .dataframe tbody tr th {\n",
              "        vertical-align: top;\n",
              "    }\n",
              "\n",
              "    .dataframe thead th {\n",
              "        text-align: right;\n",
              "    }\n",
              "</style>\n",
              "<table border=\"1\" class=\"dataframe\">\n",
              "  <thead>\n",
              "    <tr style=\"text-align: right;\">\n",
              "      <th></th>\n",
              "      <th>Date</th>\n",
              "      <th>FRESHWORKS</th>\n",
              "      <th>GOLD</th>\n",
              "      <th>PETROL</th>\n",
              "      <th>CURRENCY</th>\n",
              "    </tr>\n",
              "  </thead>\n",
              "  <tbody>\n",
              "    <tr>\n",
              "      <th>0</th>\n",
              "      <td>2021-09-22</td>\n",
              "      <td>47.549999</td>\n",
              "      <td>54.650002</td>\n",
              "      <td>55.209999</td>\n",
              "      <td>73.792702</td>\n",
              "    </tr>\n",
              "    <tr>\n",
              "      <th>1</th>\n",
              "      <td>2021-09-23</td>\n",
              "      <td>47.540001</td>\n",
              "      <td>54.049999</td>\n",
              "      <td>57.080002</td>\n",
              "      <td>73.874901</td>\n",
              "    </tr>\n",
              "    <tr>\n",
              "      <th>2</th>\n",
              "      <td>2021-09-24</td>\n",
              "      <td>46.750000</td>\n",
              "      <td>53.869999</td>\n",
              "      <td>57.590000</td>\n",
              "      <td>73.839996</td>\n",
              "    </tr>\n",
              "    <tr>\n",
              "      <th>3</th>\n",
              "      <td>2021-09-27</td>\n",
              "      <td>44.049999</td>\n",
              "      <td>53.900002</td>\n",
              "      <td>59.299999</td>\n",
              "      <td>73.812897</td>\n",
              "    </tr>\n",
              "    <tr>\n",
              "      <th>4</th>\n",
              "      <td>2021-09-28</td>\n",
              "      <td>42.730000</td>\n",
              "      <td>54.580002</td>\n",
              "      <td>59.919998</td>\n",
              "      <td>73.825302</td>\n",
              "    </tr>\n",
              "    <tr>\n",
              "      <th>...</th>\n",
              "      <td>...</td>\n",
              "      <td>...</td>\n",
              "      <td>...</td>\n",
              "      <td>...</td>\n",
              "      <td>...</td>\n",
              "    </tr>\n",
              "    <tr>\n",
              "      <th>658</th>\n",
              "      <td>2024-05-06</td>\n",
              "      <td>14.130000</td>\n",
              "      <td>41.389999</td>\n",
              "      <td>116.750000</td>\n",
              "      <td>83.379997</td>\n",
              "    </tr>\n",
              "    <tr>\n",
              "      <th>659</th>\n",
              "      <td>2024-05-07</td>\n",
              "      <td>14.260000</td>\n",
              "      <td>41.439999</td>\n",
              "      <td>116.169998</td>\n",
              "      <td>83.472801</td>\n",
              "    </tr>\n",
              "    <tr>\n",
              "      <th>660</th>\n",
              "      <td>2024-05-08</td>\n",
              "      <td>13.820000</td>\n",
              "      <td>41.540001</td>\n",
              "      <td>116.150002</td>\n",
              "      <td>83.469902</td>\n",
              "    </tr>\n",
              "    <tr>\n",
              "      <th>661</th>\n",
              "      <td>2024-05-09</td>\n",
              "      <td>13.830000</td>\n",
              "      <td>42.840000</td>\n",
              "      <td>118.440002</td>\n",
              "      <td>83.464302</td>\n",
              "    </tr>\n",
              "    <tr>\n",
              "      <th>662</th>\n",
              "      <td>2024-05-10</td>\n",
              "      <td>13.710000</td>\n",
              "      <td>42.490002</td>\n",
              "      <td>117.959999</td>\n",
              "      <td>83.521004</td>\n",
              "    </tr>\n",
              "  </tbody>\n",
              "</table>\n",
              "<p>663 rows × 5 columns</p>\n",
              "</div>"
            ],
            "text/plain": [
              "           Date  FRESHWORKS       GOLD      PETROL   CURRENCY\n",
              "0    2021-09-22   47.549999  54.650002   55.209999  73.792702\n",
              "1    2021-09-23   47.540001  54.049999   57.080002  73.874901\n",
              "2    2021-09-24   46.750000  53.869999   57.590000  73.839996\n",
              "3    2021-09-27   44.049999  53.900002   59.299999  73.812897\n",
              "4    2021-09-28   42.730000  54.580002   59.919998  73.825302\n",
              "..          ...         ...        ...         ...        ...\n",
              "658  2024-05-06   14.130000  41.389999  116.750000  83.379997\n",
              "659  2024-05-07   14.260000  41.439999  116.169998  83.472801\n",
              "660  2024-05-08   13.820000  41.540001  116.150002  83.469902\n",
              "661  2024-05-09   13.830000  42.840000  118.440002  83.464302\n",
              "662  2024-05-10   13.710000  42.490002  117.959999  83.521004\n",
              "\n",
              "[663 rows x 5 columns]"
            ]
          },
          "execution_count": 164,
          "metadata": {},
          "output_type": "execute_result"
        }
      ],
      "source": [
        "data"
      ]
    },
    {
      "cell_type": "code",
      "execution_count": 165,
      "metadata": {
        "colab": {
          "base_uri": "https://localhost:8080/"
        },
        "id": "tlbV_cryzwAk",
        "outputId": "691cf2f8-a231-4c9c-943d-c32867718fd1"
      },
      "outputs": [
        {
          "data": {
            "text/plain": [
              "Date           object\n",
              "FRESHWORKS    float64\n",
              "GOLD          float64\n",
              "PETROL        float64\n",
              "CURRENCY      float64\n",
              "dtype: object"
            ]
          },
          "execution_count": 165,
          "metadata": {},
          "output_type": "execute_result"
        }
      ],
      "source": [
        "data.dtypes"
      ]
    },
    {
      "cell_type": "code",
      "execution_count": 166,
      "metadata": {
        "colab": {
          "base_uri": "https://localhost:8080/"
        },
        "id": "UU3wIbCw2gLC",
        "outputId": "695b6eca-e955-489e-99bc-500ea5f7c178"
      },
      "outputs": [
        {
          "data": {
            "text/plain": [
              "datetime.datetime(2020, 1, 1, 0, 0)"
            ]
          },
          "execution_count": 166,
          "metadata": {},
          "output_type": "execute_result"
        }
      ],
      "source": [
        "def str_to_datetime(s):\n",
        "  split = s.split('-')\n",
        "  year, month, day = int(split[0]), int(split[1]), int(split[2])\n",
        "  return datetime.datetime(year = year, month = month, day = day)\n",
        "datetime_object = str_to_datetime('2020-01-01')\n",
        "datetime_object"
      ]
    },
    {
      "cell_type": "code",
      "execution_count": 167,
      "metadata": {
        "colab": {
          "base_uri": "https://localhost:8080/"
        },
        "id": "7JGgbqwz22wP",
        "outputId": "c7ba56aa-a301-4a3c-f9bf-7e95f043fab9"
      },
      "outputs": [
        {
          "data": {
            "text/plain": [
              "0     2021-09-22\n",
              "1     2021-09-23\n",
              "2     2021-09-24\n",
              "3     2021-09-27\n",
              "4     2021-09-28\n",
              "         ...    \n",
              "658   2024-05-06\n",
              "659   2024-05-07\n",
              "660   2024-05-08\n",
              "661   2024-05-09\n",
              "662   2024-05-10\n",
              "Name: Date, Length: 663, dtype: datetime64[ns]"
            ]
          },
          "execution_count": 167,
          "metadata": {},
          "output_type": "execute_result"
        }
      ],
      "source": [
        "data['Date'] = data['Date'].apply(str_to_datetime)\n",
        "data['Date']"
      ]
    },
    {
      "cell_type": "code",
      "execution_count": 168,
      "metadata": {
        "colab": {
          "base_uri": "https://localhost:8080/",
          "height": 455
        },
        "id": "Yf2Pbf4i3muB",
        "outputId": "baa79c90-2210-4643-8f9e-8695b48c663e"
      },
      "outputs": [
        {
          "data": {
            "text/html": [
              "<div>\n",
              "<style scoped>\n",
              "    .dataframe tbody tr th:only-of-type {\n",
              "        vertical-align: middle;\n",
              "    }\n",
              "\n",
              "    .dataframe tbody tr th {\n",
              "        vertical-align: top;\n",
              "    }\n",
              "\n",
              "    .dataframe thead th {\n",
              "        text-align: right;\n",
              "    }\n",
              "</style>\n",
              "<table border=\"1\" class=\"dataframe\">\n",
              "  <thead>\n",
              "    <tr style=\"text-align: right;\">\n",
              "      <th></th>\n",
              "      <th>FRESHWORKS</th>\n",
              "      <th>GOLD</th>\n",
              "      <th>PETROL</th>\n",
              "      <th>CURRENCY</th>\n",
              "    </tr>\n",
              "    <tr>\n",
              "      <th>Date</th>\n",
              "      <th></th>\n",
              "      <th></th>\n",
              "      <th></th>\n",
              "      <th></th>\n",
              "    </tr>\n",
              "  </thead>\n",
              "  <tbody>\n",
              "    <tr>\n",
              "      <th>2021-09-22</th>\n",
              "      <td>47.549999</td>\n",
              "      <td>54.650002</td>\n",
              "      <td>55.209999</td>\n",
              "      <td>73.792702</td>\n",
              "    </tr>\n",
              "    <tr>\n",
              "      <th>2021-09-23</th>\n",
              "      <td>47.540001</td>\n",
              "      <td>54.049999</td>\n",
              "      <td>57.080002</td>\n",
              "      <td>73.874901</td>\n",
              "    </tr>\n",
              "    <tr>\n",
              "      <th>2021-09-24</th>\n",
              "      <td>46.750000</td>\n",
              "      <td>53.869999</td>\n",
              "      <td>57.590000</td>\n",
              "      <td>73.839996</td>\n",
              "    </tr>\n",
              "    <tr>\n",
              "      <th>2021-09-27</th>\n",
              "      <td>44.049999</td>\n",
              "      <td>53.900002</td>\n",
              "      <td>59.299999</td>\n",
              "      <td>73.812897</td>\n",
              "    </tr>\n",
              "    <tr>\n",
              "      <th>2021-09-28</th>\n",
              "      <td>42.730000</td>\n",
              "      <td>54.580002</td>\n",
              "      <td>59.919998</td>\n",
              "      <td>73.825302</td>\n",
              "    </tr>\n",
              "    <tr>\n",
              "      <th>...</th>\n",
              "      <td>...</td>\n",
              "      <td>...</td>\n",
              "      <td>...</td>\n",
              "      <td>...</td>\n",
              "    </tr>\n",
              "    <tr>\n",
              "      <th>2024-05-06</th>\n",
              "      <td>14.130000</td>\n",
              "      <td>41.389999</td>\n",
              "      <td>116.750000</td>\n",
              "      <td>83.379997</td>\n",
              "    </tr>\n",
              "    <tr>\n",
              "      <th>2024-05-07</th>\n",
              "      <td>14.260000</td>\n",
              "      <td>41.439999</td>\n",
              "      <td>116.169998</td>\n",
              "      <td>83.472801</td>\n",
              "    </tr>\n",
              "    <tr>\n",
              "      <th>2024-05-08</th>\n",
              "      <td>13.820000</td>\n",
              "      <td>41.540001</td>\n",
              "      <td>116.150002</td>\n",
              "      <td>83.469902</td>\n",
              "    </tr>\n",
              "    <tr>\n",
              "      <th>2024-05-09</th>\n",
              "      <td>13.830000</td>\n",
              "      <td>42.840000</td>\n",
              "      <td>118.440002</td>\n",
              "      <td>83.464302</td>\n",
              "    </tr>\n",
              "    <tr>\n",
              "      <th>2024-05-10</th>\n",
              "      <td>13.710000</td>\n",
              "      <td>42.490002</td>\n",
              "      <td>117.959999</td>\n",
              "      <td>83.521004</td>\n",
              "    </tr>\n",
              "  </tbody>\n",
              "</table>\n",
              "<p>663 rows × 4 columns</p>\n",
              "</div>"
            ],
            "text/plain": [
              "            FRESHWORKS       GOLD      PETROL   CURRENCY\n",
              "Date                                                    \n",
              "2021-09-22   47.549999  54.650002   55.209999  73.792702\n",
              "2021-09-23   47.540001  54.049999   57.080002  73.874901\n",
              "2021-09-24   46.750000  53.869999   57.590000  73.839996\n",
              "2021-09-27   44.049999  53.900002   59.299999  73.812897\n",
              "2021-09-28   42.730000  54.580002   59.919998  73.825302\n",
              "...                ...        ...         ...        ...\n",
              "2024-05-06   14.130000  41.389999  116.750000  83.379997\n",
              "2024-05-07   14.260000  41.439999  116.169998  83.472801\n",
              "2024-05-08   13.820000  41.540001  116.150002  83.469902\n",
              "2024-05-09   13.830000  42.840000  118.440002  83.464302\n",
              "2024-05-10   13.710000  42.490002  117.959999  83.521004\n",
              "\n",
              "[663 rows x 4 columns]"
            ]
          },
          "execution_count": 168,
          "metadata": {},
          "output_type": "execute_result"
        }
      ],
      "source": [
        "data.index = data.pop('Date')\n",
        "data"
      ]
    },
    {
      "cell_type": "code",
      "execution_count": 169,
      "metadata": {
        "colab": {
          "base_uri": "https://localhost:8080/"
        },
        "id": "J69crtrw47JJ",
        "outputId": "98b37a87-a72b-49f7-cd34-24e525aee453"
      },
      "outputs": [
        {
          "data": {
            "text/plain": [
              "(663, 4)"
            ]
          },
          "execution_count": 169,
          "metadata": {},
          "output_type": "execute_result"
        }
      ],
      "source": [
        "data.shape"
      ]
    },
    {
      "cell_type": "code",
      "execution_count": 170,
      "metadata": {
        "colab": {
          "base_uri": "https://localhost:8080/",
          "height": 300
        },
        "id": "LEA8h09WAfRW",
        "outputId": "855f6d6d-77b4-4be2-8861-22a063802674"
      },
      "outputs": [
        {
          "data": {
            "text/html": [
              "<div>\n",
              "<style scoped>\n",
              "    .dataframe tbody tr th:only-of-type {\n",
              "        vertical-align: middle;\n",
              "    }\n",
              "\n",
              "    .dataframe tbody tr th {\n",
              "        vertical-align: top;\n",
              "    }\n",
              "\n",
              "    .dataframe thead th {\n",
              "        text-align: right;\n",
              "    }\n",
              "</style>\n",
              "<table border=\"1\" class=\"dataframe\">\n",
              "  <thead>\n",
              "    <tr style=\"text-align: right;\">\n",
              "      <th></th>\n",
              "      <th>FRESHWORKS</th>\n",
              "      <th>GOLD</th>\n",
              "      <th>PETROL</th>\n",
              "      <th>CURRENCY</th>\n",
              "    </tr>\n",
              "  </thead>\n",
              "  <tbody>\n",
              "    <tr>\n",
              "      <th>count</th>\n",
              "      <td>663.000000</td>\n",
              "      <td>663.000000</td>\n",
              "      <td>663.000000</td>\n",
              "      <td>663.000000</td>\n",
              "    </tr>\n",
              "    <tr>\n",
              "      <th>mean</th>\n",
              "      <td>19.285618</td>\n",
              "      <td>49.013001</td>\n",
              "      <td>97.316229</td>\n",
              "      <td>80.322245</td>\n",
              "    </tr>\n",
              "    <tr>\n",
              "      <th>std</th>\n",
              "      <td>7.302050</td>\n",
              "      <td>11.990306</td>\n",
              "      <td>16.854462</td>\n",
              "      <td>3.217276</td>\n",
              "    </tr>\n",
              "    <tr>\n",
              "      <th>min</th>\n",
              "      <td>10.880000</td>\n",
              "      <td>29.860001</td>\n",
              "      <td>55.209999</td>\n",
              "      <td>73.792702</td>\n",
              "    </tr>\n",
              "    <tr>\n",
              "      <th>25%</th>\n",
              "      <td>14.685000</td>\n",
              "      <td>40.470001</td>\n",
              "      <td>86.869999</td>\n",
              "      <td>77.461300</td>\n",
              "    </tr>\n",
              "    <tr>\n",
              "      <th>50%</th>\n",
              "      <td>17.620001</td>\n",
              "      <td>45.169998</td>\n",
              "      <td>102.989998</td>\n",
              "      <td>81.991798</td>\n",
              "    </tr>\n",
              "    <tr>\n",
              "      <th>75%</th>\n",
              "      <td>20.935000</td>\n",
              "      <td>56.360001</td>\n",
              "      <td>109.695004</td>\n",
              "      <td>82.894299</td>\n",
              "    </tr>\n",
              "    <tr>\n",
              "      <th>max</th>\n",
              "      <td>50.250000</td>\n",
              "      <td>85.419998</td>\n",
              "      <td>122.199997</td>\n",
              "      <td>85.194000</td>\n",
              "    </tr>\n",
              "  </tbody>\n",
              "</table>\n",
              "</div>"
            ],
            "text/plain": [
              "       FRESHWORKS        GOLD      PETROL    CURRENCY\n",
              "count  663.000000  663.000000  663.000000  663.000000\n",
              "mean    19.285618   49.013001   97.316229   80.322245\n",
              "std      7.302050   11.990306   16.854462    3.217276\n",
              "min     10.880000   29.860001   55.209999   73.792702\n",
              "25%     14.685000   40.470001   86.869999   77.461300\n",
              "50%     17.620001   45.169998  102.989998   81.991798\n",
              "75%     20.935000   56.360001  109.695004   82.894299\n",
              "max     50.250000   85.419998  122.199997   85.194000"
            ]
          },
          "execution_count": 170,
          "metadata": {},
          "output_type": "execute_result"
        }
      ],
      "source": [
        "data.describe()"
      ]
    },
    {
      "cell_type": "code",
      "execution_count": 171,
      "metadata": {
        "colab": {
          "base_uri": "https://localhost:8080/"
        },
        "id": "H-S73is-zwDy",
        "outputId": "13d907a8-fb0d-41d9-a439-86b2cf92ba2e"
      },
      "outputs": [
        {
          "name": "stdout",
          "output_type": "stream",
          "text": [
            "FRESHWORKS    0\n",
            "GOLD          0\n",
            "PETROL        0\n",
            "CURRENCY      0\n",
            "dtype: int64\n"
          ]
        }
      ],
      "source": [
        "print(data.isnull().sum())"
      ]
    },
    {
      "cell_type": "code",
      "execution_count": 172,
      "metadata": {
        "id": "md4uLLr_BCmX"
      },
      "outputs": [],
      "source": [
        "data.dropna(inplace=True)"
      ]
    },
    {
      "cell_type": "code",
      "execution_count": 173,
      "metadata": {
        "colab": {
          "base_uri": "https://localhost:8080/"
        },
        "id": "LKvLM0qMCjH2",
        "outputId": "bd1373da-24aa-4373-d1f6-96c75c6c5907"
      },
      "outputs": [
        {
          "name": "stdout",
          "output_type": "stream",
          "text": [
            "FRESHWORKS    0\n",
            "GOLD          0\n",
            "PETROL        0\n",
            "CURRENCY      0\n",
            "dtype: int64\n"
          ]
        }
      ],
      "source": [
        "print(data.isnull().sum())"
      ]
    },
    {
      "cell_type": "code",
      "execution_count": 174,
      "metadata": {
        "colab": {
          "base_uri": "https://localhost:8080/"
        },
        "id": "4wwY2EdbAtiI",
        "outputId": "41b443c3-0d6f-4c8e-ec45-cc02d59f9815"
      },
      "outputs": [
        {
          "data": {
            "text/plain": [
              "(663, 4)"
            ]
          },
          "execution_count": 174,
          "metadata": {},
          "output_type": "execute_result"
        }
      ],
      "source": [
        "data.shape"
      ]
    },
    {
      "cell_type": "code",
      "execution_count": 175,
      "metadata": {
        "colab": {
          "base_uri": "https://localhost:8080/"
        },
        "id": "1eiwWtdOzwJ9",
        "outputId": "a9601fcc-b992-4958-c52f-f6c18cb6df0c"
      },
      "outputs": [
        {
          "name": "stdout",
          "output_type": "stream",
          "text": [
            "            FRESHWORKS      GOLD    PETROL  CURRENCY\n",
            "FRESHWORKS    1.000000  0.126799 -0.652374 -0.518938\n",
            "GOLD          0.126799  1.000000 -0.595638 -0.808169\n",
            "PETROL       -0.652374 -0.595638  1.000000  0.900847\n",
            "CURRENCY     -0.518938 -0.808169  0.900847  1.000000\n"
          ]
        }
      ],
      "source": [
        "print(data.corr())"
      ]
    },
    {
      "cell_type": "markdown",
      "metadata": {
        "id": "ywDp0M4yKPWE"
      },
      "source": [
        "# Linear Regression"
      ]
    },
    {
      "cell_type": "code",
      "execution_count": 176,
      "metadata": {
        "colab": {
          "base_uri": "https://localhost:8080/",
          "height": 797
        },
        "id": "d8np9Kxwzwia",
        "outputId": "63737df4-db3b-4422-e37f-5f4807476164"
      },
      "outputs": [
        {
          "name": "stdout",
          "output_type": "stream",
          "text": [
            "Actual vs. Predicted Values:\n",
            "            Actual RELIANCE  Predicted RELIANCE\n",
            "Date                                           \n",
            "2023-01-10        14.310000           12.392122\n",
            "2024-01-11        23.469999           20.003143\n",
            "2023-10-06        19.510000           17.731615\n",
            "2023-03-02        14.760000           15.437363\n",
            "2022-10-11        12.940000           19.260101\n",
            "...                     ...                 ...\n",
            "2023-07-31        18.660000           16.993957\n",
            "2023-11-03        19.000000           17.080756\n",
            "2023-06-09        15.670000           17.222815\n",
            "2022-09-16        14.780000           23.047694\n",
            "2022-07-21        13.810000           20.723365\n",
            "\n",
            "[133 rows x 2 columns]\n",
            "\n",
            "Mean Squared Error (MSE): 18.10910549255373\n",
            "Root Mean Squared Error (RMSE): 4.255479466823184\n",
            "Mean Absolute Error (MAE): 3.140205614945746\n"
          ]
        },
        {
          "name": "stderr",
          "output_type": "stream",
          "text": [
            "c:\\Users\\shais\\.conda\\envs\\tf\\lib\\site-packages\\sklearn\\metrics\\_regression.py:483: FutureWarning: 'squared' is deprecated in version 1.4 and will be removed in 1.6. To calculate the root mean squared error, use the function'root_mean_squared_error'.\n",
            "  warnings.warn(\n"
          ]
        },
        {
          "data": {
            "image/png": "[encoded data removed]",
            "text/plain": [
              "<Figure size 1500x500 with 3 Axes>"
            ]
          },
          "metadata": {},
          "output_type": "display_data"
        },
        {
          "name": "stdout",
          "output_type": "stream",
          "text": [
            "Feature: GOLD\n",
            "Mean Squared Error: 47.388995377394515\n",
            "Root Mean Squared Error: 6.883966543889832\n",
            "R-squared: 0.028594337559033955\n",
            "------------------------------\n",
            "Feature: PETROL\n",
            "Mean Squared Error: 24.16372063196554\n",
            "Root Mean Squared Error: 4.915660752326745\n",
            "R-squared: 0.5046787791004765\n",
            "------------------------------\n",
            "Feature: CURRENCY\n",
            "Mean Squared Error: 32.52660825415515\n",
            "Root Mean Squared Error: 5.7032103463010335\n",
            "R-squared: 0.3332517141066563\n",
            "------------------------------\n"
          ]
        },
        {
          "name": "stderr",
          "output_type": "stream",
          "text": [
            "c:\\Users\\shais\\.conda\\envs\\tf\\lib\\site-packages\\sklearn\\metrics\\_regression.py:483: FutureWarning: 'squared' is deprecated in version 1.4 and will be removed in 1.6. To calculate the root mean squared error, use the function'root_mean_squared_error'.\n",
            "  warnings.warn(\n",
            "c:\\Users\\shais\\.conda\\envs\\tf\\lib\\site-packages\\sklearn\\metrics\\_regression.py:483: FutureWarning: 'squared' is deprecated in version 1.4 and will be removed in 1.6. To calculate the root mean squared error, use the function'root_mean_squared_error'.\n",
            "  warnings.warn(\n",
            "c:\\Users\\shais\\.conda\\envs\\tf\\lib\\site-packages\\sklearn\\metrics\\_regression.py:483: FutureWarning: 'squared' is deprecated in version 1.4 and will be removed in 1.6. To calculate the root mean squared error, use the function'root_mean_squared_error'.\n",
            "  warnings.warn(\n"
          ]
        }
      ],
      "source": [
        "# Assuming data is your dataset\n",
        "X = data[['GOLD', 'PETROL', 'CURRENCY']]\n",
        "y = data['FRESHWORKS']\n",
        "\n",
        "X_train, X_test, y_train, y_test = train_test_split(X, y, test_size=0.2, random_state=42)\n",
        "\n",
        "model = LinearRegression()\n",
        "model.fit(X_train, y_train)\n",
        "y_pred = model.predict(X_test)\n",
        "\n",
        "mse = mean_squared_error(y_test, y_pred)\n",
        "rmse = mean_squared_error(y_test, y_pred, squared=False)\n",
        "mae = mean_absolute_error(y_test, y_pred)\n",
        "\n",
        "# Display actual and predicted values in a table\n",
        "results_table = pd.DataFrame({\n",
        "    'Actual RELIANCE': y_test,\n",
        "    'Predicted RELIANCE': y_pred\n",
        "})\n",
        "\n",
        "print(\"Actual vs. Predicted Values:\")\n",
        "print(results_table)\n",
        "\n",
        "# Display evaluation metrics\n",
        "print(f'\\nMean Squared Error (MSE): {mse}')\n",
        "print(f'Root Mean Squared Error (RMSE): {rmse}')\n",
        "print(f'Mean Absolute Error (MAE): {mae}')\n",
        "\n",
        "# Plot scatter plots\n",
        "fig, axes = plt.subplots(nrows=1, ncols=3, figsize=(15, 5))\n",
        "\n",
        "axes[0].scatter(X_test['GOLD'], y_test, color='blue', label='Actual RELIANCE')\n",
        "axes[0].scatter(X_test['GOLD'], y_pred, color='red', label='Predicted RELIANCE')\n",
        "axes[0].set_xlabel('GOLD')\n",
        "axes[0].set_ylabel('FRESHWORKS')\n",
        "axes[0].set_title('GOLD vs. RELIANCE')\n",
        "axes[0].legend()\n",
        "\n",
        "axes[1].scatter(X_test['PETROL'], y_test, color='blue', label='Actual RELIANCE')\n",
        "axes[1].scatter(X_test['PETROL'], y_pred, color='red', label='Predicted RELIANCE')\n",
        "axes[1].set_xlabel('PETROL')\n",
        "axes[1].set_ylabel('FRESHWORKS')\n",
        "axes[1].set_title('PETROL vs. RELIANCE')\n",
        "axes[1].legend()\n",
        "\n",
        "axes[2].scatter(X_test['CURRENCY'], y_test, color='blue', label='Actual RELIANCE')\n",
        "axes[2].scatter(X_test['CURRENCY'], y_pred, color='red', label='Predicted RELIANCE')\n",
        "axes[2].set_xlabel('CURRENCY')\n",
        "axes[2].set_ylabel('FRESHWORKS')\n",
        "axes[2].set_title('CURRENCY vs. RELIANCE')\n",
        "axes[2].legend()\n",
        "\n",
        "plt.tight_layout()\n",
        "plt.show()\n",
        "\n",
        "def calculate_metrics(y_test, y_pred):\n",
        "    mse = mean_squared_error(y_test, y_pred)\n",
        "    rmse = mean_squared_error(y_test, y_pred, squared=False)\n",
        "    r2 = r2_score(y_test, y_pred)\n",
        "    return mse, rmse, r2\n",
        "\n",
        "X = data[['GOLD', 'PETROL', 'CURRENCY']]\n",
        "y = data['FRESHWORKS']\n",
        "\n",
        "metrics_dict = {'GOLD': {}, 'PETROL': {}, 'CURRENCY': {}}\n",
        "\n",
        "for feature in X.columns:\n",
        "    current_feature = X[[feature]]\n",
        "\n",
        "    X_train, X_test, y_train, y_test = train_test_split(current_feature, y, test_size=0.2, random_state=42)\n",
        "\n",
        "    model = LinearRegression()\n",
        "    model.fit(X_train, y_train)\n",
        "\n",
        "    y_pred = model.predict(X_test)\n",
        "\n",
        "    mse, rmse, r2 = calculate_metrics(y_test, y_pred)\n",
        "\n",
        "    metrics_dict[feature]['MSE'] = mse\n",
        "    metrics_dict[feature]['RMSE'] = rmse\n",
        "    metrics_dict[feature]['R-squared'] = r2\n",
        "\n",
        "for feature, metrics in metrics_dict.items():\n",
        "    print(f'Feature: {feature}')\n",
        "    print(f'Mean Squared Error: {metrics[\"MSE\"]}')\n",
        "    print(f'Root Mean Squared Error: {metrics[\"RMSE\"]}')\n",
        "    print(f'R-squared: {metrics[\"R-squared\"]}')\n",
        "    print('-' * 30)\n",
        "\n"
      ]
    },
    {
      "cell_type": "code",
      "execution_count": 177,
      "metadata": {
        "colab": {
          "base_uri": "https://localhost:8080/"
        },
        "id": "-pvIeDXczwqE",
        "outputId": "04733ff0-fb53-438a-dff2-364c9865cfa4"
      },
      "outputs": [
        {
          "name": "stdout",
          "output_type": "stream",
          "text": [
            "    Feature        MSE      RMSE  R-squared\n",
            "0      GOLD  47.388995  6.883967   0.028594\n",
            "1    PETROL  24.163721  4.915661   0.504679\n",
            "2  CURRENCY  32.526608  5.703210   0.333252\n"
          ]
        },
        {
          "name": "stderr",
          "output_type": "stream",
          "text": [
            "c:\\Users\\shais\\.conda\\envs\\tf\\lib\\site-packages\\sklearn\\metrics\\_regression.py:483: FutureWarning: 'squared' is deprecated in version 1.4 and will be removed in 1.6. To calculate the root mean squared error, use the function'root_mean_squared_error'.\n",
            "  warnings.warn(\n",
            "c:\\Users\\shais\\.conda\\envs\\tf\\lib\\site-packages\\sklearn\\metrics\\_regression.py:483: FutureWarning: 'squared' is deprecated in version 1.4 and will be removed in 1.6. To calculate the root mean squared error, use the function'root_mean_squared_error'.\n",
            "  warnings.warn(\n",
            "c:\\Users\\shais\\.conda\\envs\\tf\\lib\\site-packages\\sklearn\\metrics\\_regression.py:483: FutureWarning: 'squared' is deprecated in version 1.4 and will be removed in 1.6. To calculate the root mean squared error, use the function'root_mean_squared_error'.\n",
            "  warnings.warn(\n"
          ]
        }
      ],
      "source": [
        "def calculate_metrics(y_test, y_pred):\n",
        "    mse = mean_squared_error(y_test, y_pred)\n",
        "    rmse = mean_squared_error(y_test, y_pred, squared=False)\n",
        "    r2 = r2_score(y_test, y_pred)\n",
        "    return mse, rmse, r2\n",
        "\n",
        "X = data[['GOLD', 'PETROL', 'CURRENCY']]\n",
        "y = data['FRESHWORKS']\n",
        "\n",
        "metrics_dict = {'Feature': [], 'MSE': [], 'RMSE': [], 'R-squared': []}\n",
        "\n",
        "for feature in X.columns:\n",
        "    current_feature = X[[feature]]\n",
        "\n",
        "    X_train, X_test, y_train, y_test = train_test_split(current_feature, y, test_size=0.2, random_state=42)\n",
        "\n",
        "    model = LinearRegression()\n",
        "    model.fit(X_train, y_train)\n",
        "\n",
        "    y_pred = model.predict(X_test)\n",
        "\n",
        "    mse, rmse, r2 = calculate_metrics(y_test, y_pred)\n",
        "\n",
        "    metrics_dict['Feature'].append(feature)\n",
        "    metrics_dict['MSE'].append(mse)\n",
        "    metrics_dict['RMSE'].append(rmse)\n",
        "    metrics_dict['R-squared'].append(r2)\n",
        "\n",
        "results_df = pd.DataFrame(metrics_dict)\n",
        "print(results_df)\n"
      ]
    },
    {
      "cell_type": "markdown",
      "metadata": {
        "id": "SiYRgST7Kbyn"
      },
      "source": [
        "# Random Forest"
      ]
    },
    {
      "cell_type": "code",
      "execution_count": 178,
      "metadata": {
        "colab": {
          "base_uri": "https://localhost:8080/"
        },
        "id": "cH3zvtSdFsoO",
        "outputId": "beaf3e69-5aee-4697-c8b0-07bf8e401064"
      },
      "outputs": [
        {
          "name": "stderr",
          "output_type": "stream",
          "text": [
            "c:\\Users\\shais\\.conda\\envs\\tf\\lib\\site-packages\\sklearn\\metrics\\_regression.py:483: FutureWarning: 'squared' is deprecated in version 1.4 and will be removed in 1.6. To calculate the root mean squared error, use the function'root_mean_squared_error'.\n",
            "  warnings.warn(\n",
            "c:\\Users\\shais\\.conda\\envs\\tf\\lib\\site-packages\\sklearn\\metrics\\_regression.py:483: FutureWarning: 'squared' is deprecated in version 1.4 and will be removed in 1.6. To calculate the root mean squared error, use the function'root_mean_squared_error'.\n",
            "  warnings.warn(\n"
          ]
        },
        {
          "name": "stdout",
          "output_type": "stream",
          "text": [
            "    Feature        MSE      RMSE  R-squared\n",
            "0      GOLD  34.492213  5.873007   0.292960\n",
            "1    PETROL  17.291796  4.158341   0.645543\n",
            "2  CURRENCY  38.618721  6.214396   0.208372\n"
          ]
        },
        {
          "name": "stderr",
          "output_type": "stream",
          "text": [
            "c:\\Users\\shais\\.conda\\envs\\tf\\lib\\site-packages\\sklearn\\metrics\\_regression.py:483: FutureWarning: 'squared' is deprecated in version 1.4 and will be removed in 1.6. To calculate the root mean squared error, use the function'root_mean_squared_error'.\n",
            "  warnings.warn(\n"
          ]
        }
      ],
      "source": [
        "def calculate_metrics(y_test, y_pred):\n",
        "    mse = mean_squared_error(y_test, y_pred)\n",
        "    rmse = mean_squared_error(y_test, y_pred, squared=False)\n",
        "    r2 = r2_score(y_test, y_pred)\n",
        "    return mse, rmse, r2\n",
        "\n",
        "X = data[['GOLD', 'PETROL', 'CURRENCY']]\n",
        "y = data['FRESHWORKS']\n",
        "\n",
        "metrics_dict_rf = {'Feature': [], 'MSE': [], 'RMSE': [], 'R-squared': []}\n",
        "\n",
        "for feature in X.columns:\n",
        "    current_feature = X[[feature]]\n",
        "\n",
        "    X_train, X_test, y_train, y_test = train_test_split(current_feature, y, test_size=0.2, random_state=42)\n",
        "\n",
        "    model_rf = RandomForestRegressor(random_state=42)\n",
        "    model_rf.fit(X_train, y_train)\n",
        "\n",
        "    y_pred_rf = model_rf.predict(X_test)\n",
        "\n",
        "    mse_rf, rmse_rf, r2_rf = calculate_metrics(y_test, y_pred_rf)\n",
        "\n",
        "    metrics_dict_rf['Feature'].append(feature)\n",
        "    metrics_dict_rf['MSE'].append(mse_rf)\n",
        "    metrics_dict_rf['RMSE'].append(rmse_rf)\n",
        "    metrics_dict_rf['R-squared'].append(r2_rf)\n",
        "\n",
        "results_df_rf = pd.DataFrame(metrics_dict_rf)\n",
        "print(results_df_rf)\n"
      ]
    },
    {
      "cell_type": "markdown",
      "metadata": {
        "id": "0oKMvMHKKhwB"
      },
      "source": [
        "# KNN"
      ]
    },
    {
      "cell_type": "code",
      "execution_count": 179,
      "metadata": {
        "colab": {
          "base_uri": "https://localhost:8080/"
        },
        "id": "JVxofeBvGSr-",
        "outputId": "c3438a2c-3601-41f0-c76c-6f8c8d9bcbd2"
      },
      "outputs": [
        {
          "name": "stdout",
          "output_type": "stream",
          "text": [
            "    Feature        MSE      RMSE  R-squared\n",
            "0      GOLD  23.430021  4.840457   0.519719\n",
            "1    PETROL  15.138038  3.890763   0.689692\n",
            "2  CURRENCY  27.248229  5.219984   0.441451\n"
          ]
        },
        {
          "name": "stderr",
          "output_type": "stream",
          "text": [
            "c:\\Users\\shais\\.conda\\envs\\tf\\lib\\site-packages\\sklearn\\metrics\\_regression.py:483: FutureWarning: 'squared' is deprecated in version 1.4 and will be removed in 1.6. To calculate the root mean squared error, use the function'root_mean_squared_error'.\n",
            "  warnings.warn(\n",
            "c:\\Users\\shais\\.conda\\envs\\tf\\lib\\site-packages\\sklearn\\metrics\\_regression.py:483: FutureWarning: 'squared' is deprecated in version 1.4 and will be removed in 1.6. To calculate the root mean squared error, use the function'root_mean_squared_error'.\n",
            "  warnings.warn(\n",
            "c:\\Users\\shais\\.conda\\envs\\tf\\lib\\site-packages\\sklearn\\metrics\\_regression.py:483: FutureWarning: 'squared' is deprecated in version 1.4 and will be removed in 1.6. To calculate the root mean squared error, use the function'root_mean_squared_error'.\n",
            "  warnings.warn(\n"
          ]
        }
      ],
      "source": [
        "def calculate_metrics(y_test, y_pred):\n",
        "    mse = mean_squared_error(y_test, y_pred)\n",
        "    rmse = mean_squared_error(y_test, y_pred, squared=False)\n",
        "    r2 = r2_score(y_test, y_pred)\n",
        "    return mse, rmse, r2\n",
        "\n",
        "X = data[['GOLD', 'PETROL', 'CURRENCY']]\n",
        "y = data['FRESHWORKS']\n",
        "\n",
        "metrics_dict_knn = {'Feature': [], 'MSE': [], 'RMSE': [], 'R-squared': []}\n",
        "\n",
        "for feature in X.columns:\n",
        "    current_feature = X[[feature]]\n",
        "\n",
        "    X_train, X_test, y_train, y_test = train_test_split(current_feature, y, test_size=0.2, random_state=42)\n",
        "\n",
        "    model_knn = KNeighborsRegressor(n_neighbors=5)\n",
        "    model_knn.fit(X_train, y_train)\n",
        "\n",
        "    y_pred_knn = model_knn.predict(X_test)\n",
        "\n",
        "    mse_knn, rmse_knn, r2_knn = calculate_metrics(y_test, y_pred_knn)\n",
        "\n",
        "    metrics_dict_knn['Feature'].append(feature)\n",
        "    metrics_dict_knn['MSE'].append(mse_knn)\n",
        "    metrics_dict_knn['RMSE'].append(rmse_knn)\n",
        "    metrics_dict_knn['R-squared'].append(r2_knn)\n",
        "\n",
        "results_df_knn = pd.DataFrame(metrics_dict_knn)\n",
        "print(results_df_knn)\n"
      ]
    },
    {
      "cell_type": "markdown",
      "metadata": {
        "id": "1GxhIBX5Kmi8"
      },
      "source": [
        "# ANN"
      ]
    },
    {
      "cell_type": "code",
      "execution_count": 180,
      "metadata": {
        "colab": {
          "base_uri": "https://localhost:8080/"
        },
        "id": "prGP0VbiG1NM",
        "outputId": "91f3afbe-ee2e-4c37-8163-45ddd36acdb8"
      },
      "outputs": [
        {
          "name": "stderr",
          "output_type": "stream",
          "text": [
            "c:\\Users\\shais\\.conda\\envs\\tf\\lib\\site-packages\\keras\\src\\layers\\core\\dense.py:86: UserWarning: Do not pass an `input_shape`/`input_dim` argument to a layer. When using Sequential models, prefer using an `Input(shape)` object as the first layer in the model instead.\n",
            "  super().__init__(activity_regularizer=activity_regularizer, **kwargs)\n"
          ]
        },
        {
          "name": "stdout",
          "output_type": "stream",
          "text": [
            "\u001b[1m5/5\u001b[0m \u001b[32m━━━━━━━━━━━━━━━━━━━━\u001b[0m\u001b[37m\u001b[0m \u001b[1m0s\u001b[0m 5ms/step \n",
            "Actual and Predicted Prices (ANN):\n",
            "            Actual Prices  Predicted Prices (ANN)\n",
            "Date                                             \n",
            "2023-01-10      14.310000               12.894996\n",
            "2024-01-11      23.469999               18.706526\n",
            "2023-10-06      19.510000               19.121149\n",
            "2023-03-02      14.760000               15.817548\n",
            "2022-10-11      12.940000               15.919681\n",
            "\n",
            "Performance Metrics (ANN):\n",
            "Mean Squared Error (ANN): 13.450825269121585\n",
            "Root Mean Squared Error (ANN): 3.6675366759068115\n",
            "R-squared (ANN): 0.7242775938406667\n"
          ]
        },
        {
          "name": "stderr",
          "output_type": "stream",
          "text": [
            "c:\\Users\\shais\\.conda\\envs\\tf\\lib\\site-packages\\sklearn\\metrics\\_regression.py:483: FutureWarning: 'squared' is deprecated in version 1.4 and will be removed in 1.6. To calculate the root mean squared error, use the function'root_mean_squared_error'.\n",
            "  warnings.warn(\n"
          ]
        }
      ],
      "source": [
        "def calculate_metrics(y_test, y_pred):\n",
        "    mse = mean_squared_error(y_test, y_pred)\n",
        "    rmse = mean_squared_error(y_test, y_pred, squared=False)\n",
        "    r2 = r2_score(y_test, y_pred)\n",
        "    return mse, rmse, r2\n",
        "\n",
        "# Assuming data is your dataset\n",
        "X = data[['GOLD', 'PETROL', 'CURRENCY']]\n",
        "y = data['FRESHWORKS']\n",
        "\n",
        "X_train, X_test, y_train, y_test = train_test_split(X, y, test_size=0.2, random_state=42)\n",
        "\n",
        "scaler = StandardScaler()\n",
        "X_train_scaled = scaler.fit_transform(X_train)\n",
        "X_test_scaled = scaler.transform(X_test)\n",
        "\n",
        "model_ann = Sequential()\n",
        "model_ann.add(Dense(32, activation='relu', input_shape=(X_train.shape[1],)))\n",
        "model_ann.add(Dense(16, activation='relu'))\n",
        "model_ann.add(Dense(1, activation='linear'))\n",
        "\n",
        "model_ann.compile(optimizer='adam', loss='mean_squared_error')\n",
        "\n",
        "model_ann.fit(X_train_scaled, y_train, epochs=50, batch_size=32, verbose=0)\n",
        "\n",
        "y_pred_ann = model_ann.predict(X_test_scaled).flatten()\n",
        "\n",
        "mse_ann, rmse_ann, r2_ann = calculate_metrics(y_test, y_pred_ann)\n",
        "\n",
        "# Create a DataFrame to display actual and predicted prices\n",
        "results_ann = pd.DataFrame({'Actual Prices': y_test, 'Predicted Prices (ANN)': y_pred_ann})\n",
        "\n",
        "# Display the DataFrame and metrics\n",
        "print(\"Actual and Predicted Prices (ANN):\")\n",
        "print(results_ann.head())\n",
        "\n",
        "print(\"\\nPerformance Metrics (ANN):\")\n",
        "print(f'Mean Squared Error (ANN): {mse_ann}')\n",
        "print(f'Root Mean Squared Error (ANN): {rmse_ann}')\n",
        "print(f'R-squared (ANN): {r2_ann}')\n"
      ]
    },
    {
      "cell_type": "markdown",
      "metadata": {
        "id": "rnM1_SMELYoj"
      },
      "source": [
        "# LSTM"
      ]
    },
    {
      "cell_type": "code",
      "execution_count": 181,
      "metadata": {
        "colab": {
          "base_uri": "https://localhost:8080/",
          "height": 1000
        },
        "id": "eMkjGBnNMLRu",
        "outputId": "44949274-a29b-43c2-e969-ee9e4f65bda0"
      },
      "outputs": [
        {
          "name": "stdout",
          "output_type": "stream",
          "text": [
            "Epoch 1/50\n"
          ]
        },
        {
          "name": "stderr",
          "output_type": "stream",
          "text": [
            "c:\\Users\\shais\\.conda\\envs\\tf\\lib\\site-packages\\keras\\src\\layers\\rnn\\rnn.py:204: UserWarning: Do not pass an `input_shape`/`input_dim` argument to a layer. When using Sequential models, prefer using an `Input(shape)` object as the first layer in the model instead.\n",
            "  super().__init__(**kwargs)\n"
          ]
        },
        {
          "name": "stdout",
          "output_type": "stream",
          "text": [
            "\u001b[1m15/15\u001b[0m \u001b[32m━━━━━━━━━━━━━━━━━━━━\u001b[0m\u001b[37m\u001b[0m \u001b[1m1s\u001b[0m 13ms/step - loss: 0.0947 - val_loss: 0.0057\n",
            "Epoch 2/50\n",
            "\u001b[1m15/15\u001b[0m \u001b[32m━━━━━━━━━━━━━━━━━━━━\u001b[0m\u001b[37m\u001b[0m \u001b[1m0s\u001b[0m 4ms/step - loss: 0.0169 - val_loss: 0.0034\n",
            "Epoch 3/50\n",
            "\u001b[1m15/15\u001b[0m \u001b[32m━━━━━━━━━━━━━━━━━━━━\u001b[0m\u001b[37m\u001b[0m \u001b[1m0s\u001b[0m 4ms/step - loss: 0.0083 - val_loss: 0.0019\n",
            "Epoch 4/50\n",
            "\u001b[1m15/15\u001b[0m \u001b[32m━━━━━━━━━━━━━━━━━━━━\u001b[0m\u001b[37m\u001b[0m \u001b[1m0s\u001b[0m 3ms/step - loss: 0.0019 - val_loss: 0.0018\n",
            "Epoch 5/50\n",
            "\u001b[1m15/15\u001b[0m \u001b[32m━━━━━━━━━━━━━━━━━━━━\u001b[0m\u001b[37m\u001b[0m \u001b[1m0s\u001b[0m 3ms/step - loss: 0.0018 - val_loss: 0.0031\n",
            "Epoch 6/50\n",
            "\u001b[1m15/15\u001b[0m \u001b[32m━━━━━━━━━━━━━━━━━━━━\u001b[0m\u001b[37m\u001b[0m \u001b[1m0s\u001b[0m 3ms/step - loss: 0.0018 - val_loss: 0.0017\n",
            "Epoch 7/50\n",
            "\u001b[1m15/15\u001b[0m \u001b[32m━━━━━━━━━━━━━━━━━━━━\u001b[0m\u001b[37m\u001b[0m \u001b[1m0s\u001b[0m 3ms/step - loss: 0.0019 - val_loss: 0.0022\n",
            "Epoch 8/50\n",
            "\u001b[1m15/15\u001b[0m \u001b[32m━━━━━━━━━━━━━━━━━━━━\u001b[0m\u001b[37m\u001b[0m \u001b[1m0s\u001b[0m 3ms/step - loss: 0.0016 - val_loss: 0.0019\n",
            "Epoch 9/50\n",
            "\u001b[1m15/15\u001b[0m \u001b[32m━━━━━━━━━━━━━━━━━━━━\u001b[0m\u001b[37m\u001b[0m \u001b[1m0s\u001b[0m 4ms/step - loss: 0.0018 - val_loss: 0.0017\n",
            "Epoch 10/50\n",
            "\u001b[1m15/15\u001b[0m \u001b[32m━━━━━━━━━━━━━━━━━━━━\u001b[0m\u001b[37m\u001b[0m \u001b[1m0s\u001b[0m 3ms/step - loss: 0.0018 - val_loss: 0.0024\n",
            "Epoch 11/50\n",
            "\u001b[1m15/15\u001b[0m \u001b[32m━━━━━━━━━━━━━━━━━━━━\u001b[0m\u001b[37m\u001b[0m \u001b[1m0s\u001b[0m 3ms/step - loss: 0.0021 - val_loss: 0.0020\n",
            "Epoch 12/50\n",
            "\u001b[1m15/15\u001b[0m \u001b[32m━━━━━━━━━━━━━━━━━━━━\u001b[0m\u001b[37m\u001b[0m \u001b[1m0s\u001b[0m 3ms/step - loss: 0.0014 - val_loss: 0.0017\n",
            "Epoch 13/50\n",
            "\u001b[1m15/15\u001b[0m \u001b[32m━━━━━━━━━━━━━━━━━━━━\u001b[0m\u001b[37m\u001b[0m \u001b[1m0s\u001b[0m 3ms/step - loss: 0.0018 - val_loss: 0.0020\n",
            "Epoch 14/50\n",
            "\u001b[1m15/15\u001b[0m \u001b[32m━━━━━━━━━━━━━━━━━━━━\u001b[0m\u001b[37m\u001b[0m \u001b[1m0s\u001b[0m 3ms/step - loss: 0.0015 - val_loss: 0.0018\n",
            "Epoch 15/50\n",
            "\u001b[1m15/15\u001b[0m \u001b[32m━━━━━━━━━━━━━━━━━━━━\u001b[0m\u001b[37m\u001b[0m \u001b[1m0s\u001b[0m 4ms/step - loss: 0.0017 - val_loss: 0.0024\n",
            "Epoch 16/50\n",
            "\u001b[1m15/15\u001b[0m \u001b[32m━━━━━━━━━━━━━━━━━━━━\u001b[0m\u001b[37m\u001b[0m \u001b[1m0s\u001b[0m 4ms/step - loss: 0.0019 - val_loss: 0.0016\n",
            "Epoch 17/50\n",
            "\u001b[1m15/15\u001b[0m \u001b[32m━━━━━━━━━━━━━━━━━━━━\u001b[0m\u001b[37m\u001b[0m \u001b[1m0s\u001b[0m 4ms/step - loss: 0.0014 - val_loss: 0.0018\n",
            "Epoch 18/50\n",
            "\u001b[1m15/15\u001b[0m \u001b[32m━━━━━━━━━━━━━━━━━━━━\u001b[0m\u001b[37m\u001b[0m \u001b[1m0s\u001b[0m 3ms/step - loss: 0.0016 - val_loss: 0.0017\n",
            "Epoch 19/50\n",
            "\u001b[1m15/15\u001b[0m \u001b[32m━━━━━━━━━━━━━━━━━━━━\u001b[0m\u001b[37m\u001b[0m \u001b[1m0s\u001b[0m 3ms/step - loss: 0.0018 - val_loss: 0.0012\n",
            "Epoch 20/50\n",
            "\u001b[1m15/15\u001b[0m \u001b[32m━━━━━━━━━━━━━━━━━━━━\u001b[0m\u001b[37m\u001b[0m \u001b[1m0s\u001b[0m 3ms/step - loss: 0.0019 - val_loss: 0.0023\n",
            "Epoch 21/50\n",
            "\u001b[1m15/15\u001b[0m \u001b[32m━━━━━━━━━━━━━━━━━━━━\u001b[0m\u001b[37m\u001b[0m \u001b[1m0s\u001b[0m 3ms/step - loss: 0.0017 - val_loss: 0.0015\n",
            "Epoch 22/50\n",
            "\u001b[1m15/15\u001b[0m \u001b[32m━━━━━━━━━━━━━━━━━━━━\u001b[0m\u001b[37m\u001b[0m \u001b[1m0s\u001b[0m 3ms/step - loss: 0.0016 - val_loss: 0.0015\n",
            "Epoch 23/50\n",
            "\u001b[1m15/15\u001b[0m \u001b[32m━━━━━━━━━━━━━━━━━━━━\u001b[0m\u001b[37m\u001b[0m \u001b[1m0s\u001b[0m 3ms/step - loss: 0.0015 - val_loss: 0.0018\n",
            "Epoch 24/50\n",
            "\u001b[1m15/15\u001b[0m \u001b[32m━━━━━━━━━━━━━━━━━━━━\u001b[0m\u001b[37m\u001b[0m \u001b[1m0s\u001b[0m 3ms/step - loss: 0.0017 - val_loss: 0.0012\n",
            "Epoch 25/50\n",
            "\u001b[1m15/15\u001b[0m \u001b[32m━━━━━━━━━━━━━━━━━━━━\u001b[0m\u001b[37m\u001b[0m \u001b[1m0s\u001b[0m 3ms/step - loss: 0.0014 - val_loss: 0.0022\n",
            "Epoch 26/50\n",
            "\u001b[1m15/15\u001b[0m \u001b[32m━━━━━━━━━━━━━━━━━━━━\u001b[0m\u001b[37m\u001b[0m \u001b[1m0s\u001b[0m 3ms/step - loss: 0.0015 - val_loss: 0.0015\n",
            "Epoch 27/50\n",
            "\u001b[1m15/15\u001b[0m \u001b[32m━━━━━━━━━━━━━━━━━━━━\u001b[0m\u001b[37m\u001b[0m \u001b[1m0s\u001b[0m 3ms/step - loss: 0.0016 - val_loss: 0.0014\n",
            "Epoch 28/50\n",
            "\u001b[1m15/15\u001b[0m \u001b[32m━━━━━━━━━━━━━━━━━━━━\u001b[0m\u001b[37m\u001b[0m \u001b[1m0s\u001b[0m 3ms/step - loss: 0.0018 - val_loss: 0.0018\n",
            "Epoch 29/50\n",
            "\u001b[1m15/15\u001b[0m \u001b[32m━━━━━━━━━━━━━━━━━━━━\u001b[0m\u001b[37m\u001b[0m \u001b[1m0s\u001b[0m 3ms/step - loss: 0.0015 - val_loss: 0.0012\n",
            "Epoch 30/50\n",
            "\u001b[1m15/15\u001b[0m \u001b[32m━━━━━━━━━━━━━━━━━━━━\u001b[0m\u001b[37m\u001b[0m \u001b[1m0s\u001b[0m 3ms/step - loss: 0.0014 - val_loss: 0.0023\n",
            "Epoch 31/50\n",
            "\u001b[1m15/15\u001b[0m \u001b[32m━━━━━━━━━━━━━━━━━━━━\u001b[0m\u001b[37m\u001b[0m \u001b[1m0s\u001b[0m 3ms/step - loss: 0.0017 - val_loss: 0.0012\n",
            "Epoch 32/50\n",
            "\u001b[1m15/15\u001b[0m \u001b[32m━━━━━━━━━━━━━━━━━━━━\u001b[0m\u001b[37m\u001b[0m \u001b[1m0s\u001b[0m 3ms/step - loss: 0.0014 - val_loss: 0.0011\n",
            "Epoch 33/50\n",
            "\u001b[1m15/15\u001b[0m \u001b[32m━━━━━━━━━━━━━━━━━━━━\u001b[0m\u001b[37m\u001b[0m \u001b[1m0s\u001b[0m 3ms/step - loss: 0.0019 - val_loss: 0.0025\n",
            "Epoch 34/50\n",
            "\u001b[1m15/15\u001b[0m \u001b[32m━━━━━━━━━━━━━━━━━━━━\u001b[0m\u001b[37m\u001b[0m \u001b[1m0s\u001b[0m 3ms/step - loss: 0.0016 - val_loss: 0.0014\n",
            "Epoch 35/50\n",
            "\u001b[1m15/15\u001b[0m \u001b[32m━━━━━━━━━━━━━━━━━━━━\u001b[0m\u001b[37m\u001b[0m \u001b[1m0s\u001b[0m 3ms/step - loss: 0.0016 - val_loss: 0.0012\n",
            "Epoch 36/50\n",
            "\u001b[1m15/15\u001b[0m \u001b[32m━━━━━━━━━━━━━━━━━━━━\u001b[0m\u001b[37m\u001b[0m \u001b[1m0s\u001b[0m 3ms/step - loss: 0.0012 - val_loss: 0.0017\n",
            "Epoch 37/50\n",
            "\u001b[1m15/15\u001b[0m \u001b[32m━━━━━━━━━━━━━━━━━━━━\u001b[0m\u001b[37m\u001b[0m \u001b[1m0s\u001b[0m 3ms/step - loss: 0.0017 - val_loss: 0.0019\n",
            "Epoch 38/50\n",
            "\u001b[1m15/15\u001b[0m \u001b[32m━━━━━━━━━━━━━━━━━━━━\u001b[0m\u001b[37m\u001b[0m \u001b[1m0s\u001b[0m 3ms/step - loss: 0.0013 - val_loss: 9.1147e-04\n",
            "Epoch 39/50\n",
            "\u001b[1m15/15\u001b[0m \u001b[32m━━━━━━━━━━━━━━━━━━━━\u001b[0m\u001b[37m\u001b[0m \u001b[1m0s\u001b[0m 4ms/step - loss: 0.0016 - val_loss: 0.0015\n",
            "Epoch 40/50\n",
            "\u001b[1m15/15\u001b[0m \u001b[32m━━━━━━━━━━━━━━━━━━━━\u001b[0m\u001b[37m\u001b[0m \u001b[1m0s\u001b[0m 4ms/step - loss: 0.0017 - val_loss: 0.0014\n",
            "Epoch 41/50\n",
            "\u001b[1m15/15\u001b[0m \u001b[32m━━━━━━━━━━━━━━━━━━━━\u001b[0m\u001b[37m\u001b[0m \u001b[1m0s\u001b[0m 4ms/step - loss: 0.0013 - val_loss: 0.0016\n",
            "Epoch 42/50\n",
            "\u001b[1m15/15\u001b[0m \u001b[32m━━━━━━━━━━━━━━━━━━━━\u001b[0m\u001b[37m\u001b[0m \u001b[1m0s\u001b[0m 3ms/step - loss: 0.0012 - val_loss: 0.0013\n",
            "Epoch 43/50\n",
            "\u001b[1m15/15\u001b[0m \u001b[32m━━━━━━━━━━━━━━━━━━━━\u001b[0m\u001b[37m\u001b[0m \u001b[1m0s\u001b[0m 3ms/step - loss: 0.0016 - val_loss: 8.0828e-04\n",
            "Epoch 44/50\n",
            "\u001b[1m15/15\u001b[0m \u001b[32m━━━━━━━━━━━━━━━━━━━━\u001b[0m\u001b[37m\u001b[0m \u001b[1m0s\u001b[0m 4ms/step - loss: 0.0016 - val_loss: 0.0016\n",
            "Epoch 45/50\n",
            "\u001b[1m15/15\u001b[0m \u001b[32m━━━━━━━━━━━━━━━━━━━━\u001b[0m\u001b[37m\u001b[0m \u001b[1m0s\u001b[0m 3ms/step - loss: 0.0014 - val_loss: 0.0011\n",
            "Epoch 46/50\n",
            "\u001b[1m15/15\u001b[0m \u001b[32m━━━━━━━━━━━━━━━━━━━━\u001b[0m\u001b[37m\u001b[0m \u001b[1m0s\u001b[0m 3ms/step - loss: 0.0013 - val_loss: 0.0016\n",
            "Epoch 47/50\n",
            "\u001b[1m15/15\u001b[0m \u001b[32m━━━━━━━━━━━━━━━━━━━━\u001b[0m\u001b[37m\u001b[0m \u001b[1m0s\u001b[0m 3ms/step - loss: 0.0014 - val_loss: 0.0012\n",
            "Epoch 48/50\n",
            "\u001b[1m15/15\u001b[0m \u001b[32m━━━━━━━━━━━━━━━━━━━━\u001b[0m\u001b[37m\u001b[0m \u001b[1m0s\u001b[0m 3ms/step - loss: 0.0013 - val_loss: 9.0312e-04\n",
            "Epoch 49/50\n",
            "\u001b[1m15/15\u001b[0m \u001b[32m━━━━━━━━━━━━━━━━━━━━\u001b[0m\u001b[37m\u001b[0m \u001b[1m0s\u001b[0m 3ms/step - loss: 0.0013 - val_loss: 0.0012\n",
            "Epoch 50/50\n",
            "\u001b[1m15/15\u001b[0m \u001b[32m━━━━━━━━━━━━━━━━━━━━\u001b[0m\u001b[37m\u001b[0m \u001b[1m0s\u001b[0m 3ms/step - loss: 0.0012 - val_loss: 0.0010\n",
            "\u001b[1m4/4\u001b[0m \u001b[32m━━━━━━━━━━━━━━━━━━━━\u001b[0m\u001b[37m\u001b[0m \u001b[1m0s\u001b[0m 29ms/step\n"
          ]
        },
        {
          "data": {
            "image/png": "[encoded data removed]",
            "text/plain": [
              "<Figure size 1200x600 with 1 Axes>"
            ]
          },
          "metadata": {},
          "output_type": "display_data"
        },
        {
          "name": "stdout",
          "output_type": "stream",
          "text": [
            "Root Mean Squared Error (RMSE): 0.99\n",
            "Error Percentage: 4.99%\n",
            "\u001b[1m1/1\u001b[0m \u001b[32m━━━━━━━━━━━━━━━━━━━━\u001b[0m\u001b[37m\u001b[0m \u001b[1m0s\u001b[0m 15ms/step\n",
            "\u001b[1m1/1\u001b[0m \u001b[32m━━━━━━━━━━━━━━━━━━━━\u001b[0m\u001b[37m\u001b[0m \u001b[1m0s\u001b[0m 13ms/step\n",
            "\u001b[1m1/1\u001b[0m \u001b[32m━━━━━━━━━━━━━━━━━━━━\u001b[0m\u001b[37m\u001b[0m \u001b[1m0s\u001b[0m 16ms/step\n",
            "\u001b[1m1/1\u001b[0m \u001b[32m━━━━━━━━━━━━━━━━━━━━\u001b[0m\u001b[37m\u001b[0m \u001b[1m0s\u001b[0m 14ms/step\n",
            "\u001b[1m1/1\u001b[0m \u001b[32m━━━━━━━━━━━━━━━━━━━━\u001b[0m\u001b[37m\u001b[0m \u001b[1m0s\u001b[0m 14ms/step\n",
            "\u001b[1m1/1\u001b[0m \u001b[32m━━━━━━━━━━━━━━━━━━━━\u001b[0m\u001b[37m\u001b[0m \u001b[1m0s\u001b[0m 15ms/step\n",
            "\u001b[1m1/1\u001b[0m \u001b[32m━━━━━━━━━━━━━━━━━━━━\u001b[0m\u001b[37m\u001b[0m \u001b[1m0s\u001b[0m 15ms/step\n",
            "Forecasted stock prices for the upcoming 7 days:\n",
            "2024-05-11: 21.797853469848633\n",
            "2024-05-12: 22.330936431884766\n",
            "2024-05-13: 22.671817779541016\n",
            "2024-05-14: 22.948320388793945\n",
            "2024-05-15: 23.11876678466797\n",
            "2024-05-16: 23.197608947753906\n"
          ]
        }
      ],
      "source": [
        "target_variable = 'FRESHWORKS'\n",
        "y = data[target_variable].values.reshape(-1, 1)\n",
        "\n",
        "scaler = MinMaxScaler(feature_range=(0, 1))\n",
        "y_scaled = scaler.fit_transform(y)\n",
        "\n",
        "def create_sequences(data, seq_length):\n",
        "    sequences = []\n",
        "    targets = []\n",
        "    for i in range(len(data) - seq_length):\n",
        "        seq = data[i:i+seq_length]\n",
        "        target = data[i+seq_length]\n",
        "        sequences.append(seq)\n",
        "        targets.append(target)\n",
        "    return np.array(sequences), np.array(targets)\n",
        "\n",
        "sequence_length = 10\n",
        "\n",
        "X_seq, y_seq = create_sequences(y_scaled, sequence_length)\n",
        "\n",
        "train_size = int(len(X_seq) * 0.7)\n",
        "val_size = int(len(X_seq) * 0.15)\n",
        "test_size = len(X_seq) - train_size - val_size\n",
        "\n",
        "X_train, y_train = X_seq[:train_size], y_seq[:train_size]\n",
        "X_val, y_val = X_seq[train_size:train_size+val_size], y_seq[train_size:train_size+val_size]\n",
        "X_test, y_test = X_seq[train_size+val_size:], y_seq[train_size+val_size:]\n",
        "\n",
        "model_lstm = Sequential()\n",
        "model_lstm.add(LSTM(50, input_shape=(X_train.shape[1], X_train.shape[2])))\n",
        "model_lstm.add(Dense(1))\n",
        "model_lstm.compile(optimizer='adam', loss='mse')\n",
        "\n",
        "model_lstm.fit(X_train, y_train, epochs=50, batch_size=32, validation_data=(X_val, y_val), verbose=1)\n",
        "\n",
        "y_pred_lstm = model_lstm.predict(X_test)\n",
        "\n",
        "y_pred_lstm_inv = scaler.inverse_transform(y_pred_lstm)\n",
        "y_test_inv = scaler.inverse_transform(y_test)\n",
        "\n",
        "rmse_lstm = np.sqrt(mean_squared_error(y_test_inv, y_pred_lstm_inv))\n",
        "\n",
        "test_dates = data.index[train_size+val_size : train_size+val_size+len(y_test_inv)]\n",
        "\n",
        "plt.figure(figsize=(12, 6))\n",
        "plt.plot(test_dates, y_test_inv, label='Actual')\n",
        "plt.plot(test_dates, y_pred_lstm_inv, label='LSTM Prediction')\n",
        "plt.title(f'LSTM Prediction vs Actual (RMSE: {rmse_lstm:.2f})')\n",
        "plt.xlabel('Date')\n",
        "plt.ylabel(target_variable)\n",
        "plt.legend()\n",
        "plt.show()\n",
        "\n",
        "error_percentage = (rmse_lstm / np.mean(y_test_inv)) * 100\n",
        "\n",
        "print(f'Root Mean Squared Error (RMSE): {rmse_lstm:.2f}')\n",
        "print(f'Error Percentage: {error_percentage:.2f}%')\n",
        "\n",
        "forecasted_values_scaled = []\n",
        "for i in range(7):\n",
        "    X_new = np.array([X_test[i]])\n",
        "    forecasted_value_scaled = model_lstm.predict(X_new)[0][0]\n",
        "    forecasted_values_scaled.append(forecasted_value_scaled)\n",
        "    X_test = np.concatenate((X_test, X_new), axis=0)\n",
        "\n",
        "forecasted_values = scaler.inverse_transform(np.array(forecasted_values_scaled).reshape(-1, 1))\n",
        "forecasted_dates = pd.date_range(data.index[-1], periods=7, freq='D')[1:]\n",
        "\n",
        "print(\"Forecasted stock prices for the upcoming 7 days:\")\n",
        "for date, price in zip(forecasted_dates, forecasted_values):\n",
        "    print(f\"{date.strftime('%Y-%m-%d')}: {price[0]}\")\n",
        "\n",
        "\n"
      ]
    },
    {
      "cell_type": "markdown",
      "metadata": {
        "id": "EkEuOzxGLDIK"
      },
      "source": [
        "# All models together"
      ]
    },
    {
      "cell_type": "code",
      "execution_count": 182,
      "metadata": {
        "id": "aUJhYtgnM85k"
      },
      "outputs": [
        {
          "name": "stderr",
          "output_type": "stream",
          "text": [
            "c:\\Users\\shais\\.conda\\envs\\tf\\lib\\site-packages\\sklearn\\metrics\\_regression.py:483: FutureWarning: 'squared' is deprecated in version 1.4 and will be removed in 1.6. To calculate the root mean squared error, use the function'root_mean_squared_error'.\n",
            "  warnings.warn(\n",
            "c:\\Users\\shais\\.conda\\envs\\tf\\lib\\site-packages\\sklearn\\metrics\\_regression.py:483: FutureWarning: 'squared' is deprecated in version 1.4 and will be removed in 1.6. To calculate the root mean squared error, use the function'root_mean_squared_error'.\n",
            "  warnings.warn(\n",
            "c:\\Users\\shais\\.conda\\envs\\tf\\lib\\site-packages\\sklearn\\metrics\\_regression.py:483: FutureWarning: 'squared' is deprecated in version 1.4 and will be removed in 1.6. To calculate the root mean squared error, use the function'root_mean_squared_error'.\n",
            "  warnings.warn(\n",
            "c:\\Users\\shais\\.conda\\envs\\tf\\lib\\site-packages\\sklearn\\metrics\\_regression.py:483: FutureWarning: 'squared' is deprecated in version 1.4 and will be removed in 1.6. To calculate the root mean squared error, use the function'root_mean_squared_error'.\n",
            "  warnings.warn(\n",
            "c:\\Users\\shais\\.conda\\envs\\tf\\lib\\site-packages\\sklearn\\metrics\\_regression.py:483: FutureWarning: 'squared' is deprecated in version 1.4 and will be removed in 1.6. To calculate the root mean squared error, use the function'root_mean_squared_error'.\n",
            "  warnings.warn(\n",
            "c:\\Users\\shais\\.conda\\envs\\tf\\lib\\site-packages\\keras\\src\\layers\\core\\dense.py:86: UserWarning: Do not pass an `input_shape`/`input_dim` argument to a layer. When using Sequential models, prefer using an `Input(shape)` object as the first layer in the model instead.\n",
            "  super().__init__(activity_regularizer=activity_regularizer, **kwargs)\n"
          ]
        },
        {
          "name": "stdout",
          "output_type": "stream",
          "text": [
            "\u001b[1m4/4\u001b[0m \u001b[32m━━━━━━━━━━━━━━━━━━━━\u001b[0m\u001b[37m\u001b[0m \u001b[1m0s\u001b[0m 7ms/step \n"
          ]
        },
        {
          "name": "stderr",
          "output_type": "stream",
          "text": [
            "c:\\Users\\shais\\.conda\\envs\\tf\\lib\\site-packages\\sklearn\\metrics\\_regression.py:483: FutureWarning: 'squared' is deprecated in version 1.4 and will be removed in 1.6. To calculate the root mean squared error, use the function'root_mean_squared_error'.\n",
            "  warnings.warn(\n",
            "c:\\Users\\shais\\.conda\\envs\\tf\\lib\\site-packages\\keras\\src\\layers\\rnn\\rnn.py:204: UserWarning: Do not pass an `input_shape`/`input_dim` argument to a layer. When using Sequential models, prefer using an `Input(shape)` object as the first layer in the model instead.\n",
            "  super().__init__(**kwargs)\n"
          ]
        },
        {
          "name": "stdout",
          "output_type": "stream",
          "text": [
            "\u001b[1m3/3\u001b[0m \u001b[32m━━━━━━━━━━━━━━━━━━━━\u001b[0m\u001b[37m\u001b[0m \u001b[1m0s\u001b[0m 43ms/step\n",
            "Results for Linear Regression:\n",
            "               Actual  Predicted_LR\n",
            "Date                               \n",
            "2022-02-08  22.530001     24.152631\n",
            "2022-08-10  16.450001     22.641491\n",
            "2022-10-10  12.850000     18.563242\n",
            "2022-05-19  15.800000     17.112930\n",
            "2024-01-31  22.200001     20.179767\n",
            "\n",
            "Results for Random Forest:\n",
            "               Actual  Predicted_RF\n",
            "Date                               \n",
            "2022-02-08  22.530001       21.6503\n",
            "2022-08-10  16.450001       15.1371\n",
            "2022-10-10  12.850000       16.5229\n",
            "2022-05-19  15.800000       14.6691\n",
            "2024-01-31  22.200001       21.9903\n",
            "\n",
            "Results for k-Nearest Neighbors:\n",
            "               Actual  Predicted_KNN\n",
            "Date                                \n",
            "2022-02-08  22.530001         20.930\n",
            "2022-08-10  16.450001         15.434\n",
            "2022-10-10  12.850000         17.576\n",
            "2022-05-19  15.800000         14.412\n",
            "2024-01-31  22.200001         21.920\n",
            "\n",
            "Results for Artificial Neural Network:\n",
            "               Actual  Predicted_ANN\n",
            "Date                                \n",
            "2022-02-08  22.530001      22.501804\n",
            "2022-08-10  16.450001      14.375483\n",
            "2022-10-10  12.850000      15.957610\n",
            "2022-05-19  15.800000      13.071167\n",
            "2024-01-31  22.200001      20.994371\n",
            "\n",
            "Results for LSTM:\n",
            "   Actual  Predicted_LSTM\n",
            "0   20.09       18.992695\n",
            "1   15.28       18.901884\n",
            "2   14.05       19.005968\n",
            "3   14.56       19.042999\n",
            "4   15.32       19.003130\n",
            "\n",
            "Error Table:\n",
            "                       Model        MSE      RMSE       MAE  Error Percentage\n",
            "0          Linear Regression  21.361572  4.621858  3.445086         18.374388\n",
            "1              Random Forest   8.314112  2.883420  1.516590          8.088744\n",
            "2        k-Nearest Neighbors  17.978608  4.220914  2.647939         14.122800\n",
            "3  Artificial Neural Network  10.557034  3.249159  2.403118         12.817043\n",
            "4                       LSTM  48.219563  6.944031  4.739733         24.981564\n"
          ]
        }
      ],
      "source": [
        "def calculate_metrics(y_test, y_pred):\n",
        "    mse = mean_squared_error(y_test, y_pred)\n",
        "    rmse = mean_squared_error(y_test, y_pred, squared=False)\n",
        "    mae = mean_absolute_error(y_test, y_pred)\n",
        "    return mse, rmse, mae\n",
        "\n",
        "X = data[['GOLD', 'PETROL', 'CURRENCY']]\n",
        "y = data['FRESHWORKS']\n",
        "\n",
        "X_train, X_temp, y_train, y_temp = train_test_split(X, y, test_size=0.3, random_state=40)\n",
        "X_test, X_val, y_test, y_val = train_test_split(X_temp, y_temp, test_size=0.5, random_state=42)\n",
        "\n",
        "scaler_ann = StandardScaler()\n",
        "X_train_scaled_ann = scaler_ann.fit_transform(X_train)\n",
        "X_test_scaled_ann = scaler_ann.transform(X_test)\n",
        "X_val_scaled_ann = scaler_ann.transform(X_val)\n",
        "\n",
        "scaler_lstm = MinMaxScaler(feature_range=(0, 1))\n",
        "y_train_scaled_lstm = scaler_lstm.fit_transform(y_train.values.reshape(-1, 1))\n",
        "y_test_scaled_lstm = scaler_lstm.transform(y_test.values.reshape(-1, 1))\n",
        "\n",
        "model_lr = LinearRegression()\n",
        "model_lr.fit(X_train, y_train)\n",
        "y_pred_lr = model_lr.predict(X_test)\n",
        "mse_lr, rmse_lr, mae_lr = calculate_metrics(y_test, y_pred_lr)\n",
        "error_percentage_lr = (mae_lr / y_test.mean()) * 100\n",
        "\n",
        "model_rf = RandomForestRegressor(random_state=42)\n",
        "model_rf.fit(X_train, y_train)\n",
        "y_pred_rf = model_rf.predict(X_test)\n",
        "mse_rf, rmse_rf, mae_rf = calculate_metrics(y_test, y_pred_rf)\n",
        "error_percentage_rf = (mae_rf / y_test.mean()) * 100\n",
        "\n",
        "metrics_dict_knn = {'Feature': [], 'MSE': [], 'RMSE': [], 'MAE': []}\n",
        "for feature in X.columns:\n",
        "    current_feature = X_train[[feature]]\n",
        "    model_knn = KNeighborsRegressor(n_neighbors=5)\n",
        "    model_knn.fit(current_feature, y_train)\n",
        "    current_feature_test = X_test[[feature]]\n",
        "    y_pred_knn = model_knn.predict(current_feature_test)\n",
        "    mse_knn, rmse_knn, mae_knn = calculate_metrics(y_test, y_pred_knn)\n",
        "    metrics_dict_knn['Feature'].append(feature)\n",
        "    metrics_dict_knn['MSE'].append(mse_knn)\n",
        "    metrics_dict_knn['RMSE'].append(rmse_knn)\n",
        "    metrics_dict_knn['MAE'].append(mae_knn)\n",
        "\n",
        "metrics_df_knn = pd.DataFrame(metrics_dict_knn)\n",
        "error_percentage_knn = (metrics_df_knn['MAE'].mean() / y_test.mean()) * 100\n",
        "\n",
        "model_ann = Sequential()\n",
        "model_ann.add(Dense(32, activation='relu', input_shape=(X_train.shape[1],)))\n",
        "model_ann.add(Dense(16, activation='relu'))\n",
        "model_ann.add(Dense(1, activation='linear'))\n",
        "model_ann.compile(optimizer='adam', loss='mean_squared_error')\n",
        "model_ann.fit(X_train_scaled_ann, y_train, epochs=50, batch_size=32, verbose=0)\n",
        "y_pred_ann = model_ann.predict(X_test_scaled_ann).flatten()\n",
        "mse_ann, rmse_ann, mae_ann = calculate_metrics(y_test, y_pred_ann)\n",
        "error_percentage_ann = (mae_ann / y_test.mean()) * 100\n",
        "\n",
        "sequence_length_lstm = 10\n",
        "X_seq_lstm, y_seq_lstm = create_sequences(y_train_scaled_lstm, sequence_length_lstm)\n",
        "\n",
        "X_seq_val_lstm, y_seq_val_lstm = create_sequences(scaler_lstm.transform(y_val.values.reshape(-1, 1)), sequence_length_lstm)\n",
        "X_seq_test_lstm, y_seq_test_lstm = create_sequences(y_test_scaled_lstm, sequence_length_lstm)\n",
        "\n",
        "model_lstm = Sequential()\n",
        "model_lstm.add(LSTM(50, input_shape=(X_seq_lstm.shape[1], X_seq_lstm.shape[2])))\n",
        "model_lstm.add(Dense(1))\n",
        "model_lstm.compile(optimizer='adam', loss='mse')\n",
        "model_lstm.fit(X_seq_lstm, y_seq_lstm, epochs=50, batch_size=32, validation_data=(X_seq_val_lstm, y_seq_val_lstm), verbose=0)\n",
        "y_pred_lstm = model_lstm.predict(X_seq_test_lstm)\n",
        "y_pred_lstm_inv = scaler_lstm.inverse_transform(y_pred_lstm.reshape(-1, 1)).flatten()\n",
        "y_test_inv_lstm = scaler_lstm.inverse_transform(y_seq_test_lstm.reshape(-1, 1)).flatten()\n",
        "rmse_lstm = np.sqrt(mean_squared_error(y_test_inv_lstm, y_pred_lstm_inv))\n",
        "\n",
        "results_lr = pd.DataFrame({'Actual': y_test, 'Predicted_LR': y_pred_lr})\n",
        "results_rf = pd.DataFrame({'Actual': y_test, 'Predicted_RF': y_pred_rf})\n",
        "results_knn = pd.DataFrame({'Actual': y_test, 'Predicted_KNN': y_pred_knn})\n",
        "results_ann = pd.DataFrame({'Actual': y_test, 'Predicted_ANN': y_pred_ann})\n",
        "results_lstm = pd.DataFrame({'Actual': y_test_inv_lstm, 'Predicted_LSTM': y_pred_lstm_inv})\n",
        "\n",
        "error_df = pd.DataFrame({\n",
        "    'Model': ['Linear Regression', 'Random Forest', 'k-Nearest Neighbors', 'Artificial Neural Network', 'LSTM'],\n",
        "    'MSE': [mse_lr, mse_rf, metrics_df_knn['MSE'].mean(), mse_ann, mean_squared_error(y_test_inv_lstm, y_pred_lstm_inv)],\n",
        "    'RMSE': [rmse_lr, rmse_rf, metrics_df_knn['RMSE'].mean(), rmse_ann, rmse_lstm],\n",
        "    'MAE': [mae_lr, mae_rf, metrics_df_knn['MAE'].mean(), mae_ann, mean_absolute_error(y_test_inv_lstm, y_pred_lstm_inv)],\n",
        "    'Error Percentage': [error_percentage_lr, error_percentage_rf, error_percentage_knn, error_percentage_ann, (mean_absolute_error(y_test_inv_lstm, y_pred_lstm_inv) / y_test_inv_lstm.mean()) * 100]\n",
        "})\n",
        "\n",
        "print(\"Results for Linear Regression:\")\n",
        "print(results_lr.head())\n",
        "print(\"\\nResults for Random Forest:\")\n",
        "print(results_rf.head())\n",
        "print(\"\\nResults for k-Nearest Neighbors:\")\n",
        "print(results_knn.head())\n",
        "print(\"\\nResults for Artificial Neural Network:\")\n",
        "print(results_ann.head())\n",
        "print(\"\\nResults for LSTM:\")\n",
        "print(results_lstm.head())\n",
        "\n",
        "print(\"\\nError Table:\")\n",
        "print(error_df)\n",
        "\n",
        "error_df.to_csv('regression_results.csv', index=False)\n"
      ]
    },
    {
      "cell_type": "markdown",
      "metadata": {
        "id": "VcIH_WVMYYmN"
      },
      "source": [
        "# SENTIMENT ANALYSIS"
      ]
    },
    {
      "cell_type": "code",
      "execution_count": 183,
      "metadata": {},
      "outputs": [
        {
          "name": "stdout",
          "output_type": "stream",
          "text": [
            "Data saved to company_news.csv\n"
          ]
        }
      ],
      "source": [
        "import finnhub\n",
        "import csv\n",
        "import datetime\n",
        "import yfinance as yf\n",
        "from collections import defaultdict\n",
        "from pprint import pprint\n",
        "\n",
        "finnhub_client = finnhub.Client(api_key=\"cohttk9r01qpcmnifpb0cohttk9r01qpcmnifpbg\")\n",
        "\n",
        "end_date = datetime.datetime.now().strftime('%Y-%m-%d')\n",
        "start_date = (datetime.datetime.now() - datetime.timedelta(days=2*365)).strftime('%Y-%m-%d')\n",
        "\n",
        "company_news = finnhub_client.company_news('FRSH', _from=start_date, to=end_date)\n",
        "\n",
        "aapl = yf.Ticker(\"FRSH\")\n",
        "aapl_history = aapl.history(start=start_date, end=end_date)\n",
        "close_prices = aapl_history['Close'].tolist()\n",
        "\n",
        "date_data = defaultdict(lambda: {'headlines': [], 'summaries': [], 'close_prices': []})\n",
        "for news_item, price in zip(company_news, close_prices):\n",
        "    date = datetime.datetime.utcfromtimestamp(news_item['datetime']).strftime('%Y-%m-%d')\n",
        "    date_data[date]['headlines'].append(news_item['headline'])\n",
        "    date_data[date]['summaries'].append(news_item['summary'])\n",
        "    date_data[date]['close_prices'].append(price)\n",
        "\n",
        "for date, data in date_data.items():\n",
        "    avg_close_price = sum(data['close_prices']) / len(data['close_prices'])\n",
        "    date_data[date]['close_price'] = avg_close_price\n",
        "\n",
        "csv_file = \"company_news.csv\"\n",
        "\n",
        "with open(csv_file, mode='w', newline='', encoding='utf-8') as file:\n",
        "    writer = csv.writer(file)\n",
        "    writer.writerow(['date', 'headline', 'summary', 'close_price'])\n",
        "    for date, data in date_data.items():\n",
        "        writer.writerow([date, \", \".join(data['headlines']), \", \".join(data['summaries']), data['close_price']])\n",
        "\n",
        "print(\"Data saved to\", csv_file)\n",
        "\n",
        "# print(finnhub_client.stock_symbols('US'))"
      ]
    },
    {
      "cell_type": "code",
      "execution_count": 184,
      "metadata": {
        "id": "-1k8OXy5BYHT"
      },
      "outputs": [
        {
          "name": "stdout",
          "output_type": "stream",
          "text": [
            "╒══════════╤══════════╤════════════════════╕\n",
            "│ Metric   │    Error │   Error Percentage │\n",
            "╞══════════╪══════════╪════════════════════╡\n",
            "│ MSE      │ 1.35812  │            33.2873 │\n",
            "├──────────┼──────────┼────────────────────┤\n",
            "│ RMSE     │ 1.16538  │            28.5633 │\n",
            "├──────────┼──────────┼────────────────────┤\n",
            "│ MAE      │ 0.958433 │            23.491  │\n",
            "╘══════════╧══════════╧════════════════════╛\n"
          ]
        },
        {
          "name": "stderr",
          "output_type": "stream",
          "text": [
            "[nltk_data] Downloading package vader_lexicon to\n",
            "[nltk_data]     C:\\Users\\shais\\AppData\\Roaming\\nltk_data...\n",
            "[nltk_data]   Package vader_lexicon is already up-to-date!\n",
            "C:\\Users\\shais\\AppData\\Local\\Temp\\ipykernel_5724\\3748666132.py:4: FutureWarning: A value is trying to be set on a copy of a DataFrame or Series through chained assignment using an inplace method.\n",
            "The behavior will change in pandas 3.0. This inplace method will never work because the intermediate object on which we are setting values always behaves as a copy.\n",
            "\n",
            "For example, when doing 'df[col].method(value, inplace=True)', try using 'df.method({col: value}, inplace=True)' or df[col] = df[col].method(value) instead, to perform the operation inplace on the original object.\n",
            "\n",
            "\n",
            "  df['headline'].fillna('', inplace=True)\n",
            "C:\\Users\\shais\\AppData\\Local\\Temp\\ipykernel_5724\\3748666132.py:5: FutureWarning: A value is trying to be set on a copy of a DataFrame or Series through chained assignment using an inplace method.\n",
            "The behavior will change in pandas 3.0. This inplace method will never work because the intermediate object on which we are setting values always behaves as a copy.\n",
            "\n",
            "For example, when doing 'df[col].method(value, inplace=True)', try using 'df.method({col: value}, inplace=True)' or df[col] = df[col].method(value) instead, to perform the operation inplace on the original object.\n",
            "\n",
            "\n",
            "  df['summary'].fillna('', inplace=True)\n"
          ]
        },
        {
          "data": {
            "image/png": "[encoded data removed]",
            "text/plain": [
              "<Figure size 1200x600 with 1 Axes>"
            ]
          },
          "metadata": {},
          "output_type": "display_data"
        }
      ],
      "source": [
        "nltk.download('vader_lexicon')\n",
        "\n",
        "df = pd.read_csv(csv_file)\n",
        "df['headline'].fillna('', inplace=True)\n",
        "df['summary'].fillna('', inplace=True)\n",
        "\n",
        "sid = SentimentIntensityAnalyzer()\n",
        "df['Headline_Sentiment'] = df['headline'].apply(lambda x: sid.polarity_scores(str(x))['compound'])\n",
        "df['Content_Sentiment'] = df['summary'].apply(lambda x: sid.polarity_scores(str(x))['compound'])\n",
        "\n",
        "df.to_csv('sentiment_with_scores.csv', index=False)\n",
        "\n",
        "X = df[['Headline_Sentiment', 'Content_Sentiment']]\n",
        "y = df['close_price']\n",
        "\n",
        "X_train, X_temp, y_train, y_temp = train_test_split(X, y, test_size=0.3, random_state=42)\n",
        "X_test, X_val, y_test, y_val = train_test_split(X_temp, y_temp, test_size=0.5, random_state=42)\n",
        "\n",
        "model = RandomForestRegressor()\n",
        "model.fit(X_train, y_train)\n",
        "\n",
        "test_preds = model.predict(X_test)\n",
        "\n",
        "y_test = y_test.reset_index(drop=True)\n",
        "test_preds = pd.Series(test_preds, name='Predicted')\n",
        "\n",
        "mse_test = mean_squared_error(y_test, test_preds)\n",
        "rmse_test = sqrt(mse_test)\n",
        "mae_test = mean_absolute_error(y_test, test_preds)\n",
        "\n",
        "range_close = y.max() - y.min()\n",
        "mse_percentage = (mse_test / range_close) * 100\n",
        "rmse_percentage = (rmse_test / range_close) * 100\n",
        "mae_percentage = (mae_test / range_close) * 100\n",
        "\n",
        "table = [['Metric', 'Error', 'Error Percentage'],\n",
        "         ['MSE', mse_test, mse_percentage],\n",
        "         ['RMSE', rmse_test, rmse_percentage],\n",
        "         ['MAE', mae_test, mae_percentage]]\n",
        "\n",
        "print(tabulate(table, headers='firstrow', tablefmt='fancy_grid'))\n",
        "\n",
        "plt.figure(figsize=(12, 6))\n",
        "plt.plot(y_test.index, y_test, label='Actual Close Prices', color='blue')\n",
        "plt.plot(y_test.index, test_preds, label='Predicted Close Prices', color='orange')\n",
        "plt.xlabel('Date')\n",
        "plt.ylabel('Close Prices')\n",
        "plt.title('Actual vs. Predicted Close Prices')\n",
        "plt.legend()\n",
        "\n",
        "plt.xticks(y_test.index, df.loc[y_test.index, 'date'], rotation=45)\n",
        "\n",
        "plt.tight_layout()\n",
        "plt.show()\n",
        "\n"
      ]
    }
  ],
  "metadata": {
    "accelerator": "GPU",
    "colab": {
      "collapsed_sections": [
        "ja_hSuBWJ6iH",
        "ywDp0M4yKPWE",
        "SiYRgST7Kbyn",
        "0oKMvMHKKhwB",
        "1GxhIBX5Kmi8",
        "EkEuOzxGLDIK",
        "VcIH_WVMYYmN"
      ],
      "gpuType": "T4",
      "provenance": []
    },
    "kernelspec": {
      "display_name": "Python 3",
      "name": "python3"
    },
    "language_info": {
      "codemirror_mode": {
        "name": "ipython",
        "version": 3
      },
      "file_extension": ".py",
      "mimetype": "text/x-python",
      "name": "python",
      "nbconvert_exporter": "python",
      "pygments_lexer": "ipython3",
      "version": "3.9.18"
    }
  },
  "nbformat": 4,
  "nbformat_minor": 0
}
